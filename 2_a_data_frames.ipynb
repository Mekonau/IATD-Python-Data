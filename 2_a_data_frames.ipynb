{
 "cells": [
  {
   "attachments": {},
   "cell_type": "markdown",
   "metadata": {},
   "source": [
    "# Data Frames\n",
    "\n",
    "A DataFrame is Jupyter's notion of a table.  Data frames are made of \"Series\" with each series representing one column of the table.  To get access to this we need to import the `pandas` module.  When you import a module in Python, you need to give it your own short name to use in the rest of the code, we use `pd` (as is common to most code).  We start with a series, because there is no dataframe without series.\n",
    "\n",
    "# Series\n",
    "\n",
    "A series is a list of values attached to an index.  The index appears on the left, the values on the right.  Python will tell you the type of data you are storing in your series.  If it needs to, pandas will make up an index for you, it normally starts from 0 and goes up by one each \"row\".\n"
   ]
  },
  {
   "cell_type": "code",
   "execution_count": 2,
   "metadata": {},
   "outputs": [
    {
     "name": "stdout",
     "output_type": "stream",
     "text": [
      "0    5\n",
      "1    6\n",
      "2    7\n",
      "dtype: int64\n"
     ]
    }
   ],
   "source": [
    "import pandas as pd\n",
    "\n",
    "my_series = pd.Series([5,6,7])\n",
    "print(my_series)"
   ]
  },
  {
   "attachments": {},
   "cell_type": "markdown",
   "metadata": {},
   "source": [
    "I can choose a different index with this notation here.  What you are seeing is a \"dictionary\" and something we will get into more later."
   ]
  },
  {
   "cell_type": "code",
   "execution_count": 3,
   "metadata": {},
   "outputs": [
    {
     "name": "stdout",
     "output_type": "stream",
     "text": [
      "100    5\n",
      "200    6\n",
      "300    7\n",
      "dtype: int64\n"
     ]
    }
   ],
   "source": [
    "adjusted_series = pd.Series({100:5,200:6,300:7})\n",
    "print(adjusted_series)"
   ]
  },
  {
   "attachments": {},
   "cell_type": "markdown",
   "metadata": {},
   "source": [
    "Series _don't have colum names_.  If you are familiar with other programming languages they are like arrays, associative arrays, or dictionaries.\n",
    "\n",
    "# Arithmetic on Series.\n",
    "\n",
    "The `numpy` library will let us do arithmetic on whole series as if they were single values.  When you add, multiply, subtract, or divide a series, you get another series back with all the values adjusted."
   ]
  },
  {
   "cell_type": "code",
   "execution_count": 4,
   "metadata": {},
   "outputs": [
    {
     "name": "stdout",
     "output_type": "stream",
     "text": [
      "-- adding one --\n",
      "100    6\n",
      "200    7\n",
      "300    8\n",
      "dtype: int64\n",
      "-- multiply by two --\n",
      "100    10\n",
      "200    12\n",
      "300    14\n",
      "dtype: int64\n",
      "-- boolean operators work too --\n",
      "100    False\n",
      "200    False\n",
      "300     True\n",
      "dtype: bool\n"
     ]
    }
   ],
   "source": [
    "import numpy as np\n",
    "\n",
    "print(\"-- adding one --\")\n",
    "print(adjusted_series + 1)\n",
    "\n",
    "print(\"-- multiply by two --\")\n",
    "print(adjusted_series * 2)\n",
    "\n",
    "print(\"-- boolean operators work too --\")\n",
    "print(adjusted_series > 6)"
   ]
  },
  {
   "attachments": {},
   "cell_type": "markdown",
   "metadata": {},
   "source": [
    "\n",
    "\n",
    "# Data Frame\n",
    "\n",
    "We want titles on our columns though, and we want multiple columns.  Data frames give us that.  We can promote a Series to data frame"
   ]
  },
  {
   "cell_type": "code",
   "execution_count": 5,
   "metadata": {},
   "outputs": [
    {
     "data": {
      "text/html": [
       "<div>\n",
       "<style scoped>\n",
       "    .dataframe tbody tr th:only-of-type {\n",
       "        vertical-align: middle;\n",
       "    }\n",
       "\n",
       "    .dataframe tbody tr th {\n",
       "        vertical-align: top;\n",
       "    }\n",
       "\n",
       "    .dataframe thead th {\n",
       "        text-align: right;\n",
       "    }\n",
       "</style>\n",
       "<table border=\"1\" class=\"dataframe\">\n",
       "  <thead>\n",
       "    <tr style=\"text-align: right;\">\n",
       "      <th></th>\n",
       "      <th>0</th>\n",
       "    </tr>\n",
       "  </thead>\n",
       "  <tbody>\n",
       "    <tr>\n",
       "      <th>100</th>\n",
       "      <td>5</td>\n",
       "    </tr>\n",
       "    <tr>\n",
       "      <th>200</th>\n",
       "      <td>6</td>\n",
       "    </tr>\n",
       "    <tr>\n",
       "      <th>300</th>\n",
       "      <td>7</td>\n",
       "    </tr>\n",
       "  </tbody>\n",
       "</table>\n",
       "</div>"
      ],
      "text/plain": [
       "     0\n",
       "100  5\n",
       "200  6\n",
       "300  7"
      ]
     },
     "execution_count": 5,
     "metadata": {},
     "output_type": "execute_result"
    }
   ],
   "source": [
    "first_frame = adjusted_series.to_frame()\n",
    "first_frame"
   ]
  },
  {
   "attachments": {},
   "cell_type": "markdown",
   "metadata": {},
   "source": [
    "It has given our one column a name.  I don't love that name, I would prefer \"A\""
   ]
  },
  {
   "cell_type": "code",
   "execution_count": 16,
   "metadata": {},
   "outputs": [
    {
     "name": "stdout",
     "output_type": "stream",
     "text": [
      "     A\n",
      "100  5\n",
      "200  6\n",
      "300  7\n"
     ]
    },
    {
     "data": {
      "text/html": [
       "<div>\n",
       "<style scoped>\n",
       "    .dataframe tbody tr th:only-of-type {\n",
       "        vertical-align: middle;\n",
       "    }\n",
       "\n",
       "    .dataframe tbody tr th {\n",
       "        vertical-align: top;\n",
       "    }\n",
       "\n",
       "    .dataframe thead th {\n",
       "        text-align: right;\n",
       "    }\n",
       "</style>\n",
       "<table border=\"1\" class=\"dataframe\">\n",
       "  <thead>\n",
       "    <tr style=\"text-align: right;\">\n",
       "      <th></th>\n",
       "      <th>A</th>\n",
       "    </tr>\n",
       "  </thead>\n",
       "  <tbody>\n",
       "    <tr>\n",
       "      <th>100</th>\n",
       "      <td>5</td>\n",
       "    </tr>\n",
       "    <tr>\n",
       "      <th>200</th>\n",
       "      <td>6</td>\n",
       "    </tr>\n",
       "    <tr>\n",
       "      <th>300</th>\n",
       "      <td>7</td>\n",
       "    </tr>\n",
       "  </tbody>\n",
       "</table>\n",
       "</div>"
      ],
      "text/plain": [
       "     A\n",
       "100  5\n",
       "200  6\n",
       "300  7"
      ]
     },
     "execution_count": 16,
     "metadata": {},
     "output_type": "execute_result"
    }
   ],
   "source": [
    "series = adjusted_series.to_frame(\"A\")\n",
    "print(series)\n",
    "\n",
    "second_frame = series\n",
    "second_frame"
   ]
  },
  {
   "attachments": {},
   "cell_type": "markdown",
   "metadata": {},
   "source": [
    "You can get a series back from a dataframe using the _square bracket_ notation.\n",
    "\n",
    "Note a trick that occurs here.  Series can have \"names\" which is a bit like the column header for the single column of data.  When pulling a series from a frame you will get that `name` populated with the column name.  You can see it at the bottom of the output."
   ]
  },
  {
   "cell_type": "code",
   "execution_count": 7,
   "metadata": {},
   "outputs": [
    {
     "data": {
      "text/plain": [
       "100    5\n",
       "200    6\n",
       "300    7\n",
       "Name: A, dtype: int64"
      ]
     },
     "execution_count": 7,
     "metadata": {},
     "output_type": "execute_result"
    }
   ],
   "source": [
    "second_frame[\"A\"]"
   ]
  },
  {
   "attachments": {},
   "cell_type": "markdown",
   "metadata": {},
   "source": [
    "Add you can add a column using the same notation (this is the same thing as `insert` but it is a nicer form)"
   ]
  },
  {
   "cell_type": "code",
   "execution_count": 21,
   "metadata": {},
   "outputs": [
    {
     "name": "stdout",
     "output_type": "stream",
     "text": [
      "0    50\n",
      "1    50\n",
      "2    70\n",
      "dtype: int64\n",
      "\n",
      "     A   B\n",
      "100  5 NaN\n",
      "200  6 NaN\n",
      "300  7 NaN\n",
      "\n",
      "100    50\n",
      "200    50\n",
      "300    70\n",
      "dtype: int64\n",
      "\n",
      "     A   B\n",
      "100  5  50\n",
      "200  6  50\n",
      "300  7  70\n",
      "\n"
     ]
    },
    {
     "data": {
      "text/html": [
       "<div>\n",
       "<style scoped>\n",
       "    .dataframe tbody tr th:only-of-type {\n",
       "        vertical-align: middle;\n",
       "    }\n",
       "\n",
       "    .dataframe tbody tr th {\n",
       "        vertical-align: top;\n",
       "    }\n",
       "\n",
       "    .dataframe thead th {\n",
       "        text-align: right;\n",
       "    }\n",
       "</style>\n",
       "<table border=\"1\" class=\"dataframe\">\n",
       "  <thead>\n",
       "    <tr style=\"text-align: right;\">\n",
       "      <th></th>\n",
       "      <th>A</th>\n",
       "      <th>B</th>\n",
       "    </tr>\n",
       "  </thead>\n",
       "  <tbody>\n",
       "    <tr>\n",
       "      <th>100</th>\n",
       "      <td>5</td>\n",
       "      <td>50</td>\n",
       "    </tr>\n",
       "    <tr>\n",
       "      <th>200</th>\n",
       "      <td>6</td>\n",
       "      <td>50</td>\n",
       "    </tr>\n",
       "    <tr>\n",
       "      <th>300</th>\n",
       "      <td>7</td>\n",
       "      <td>70</td>\n",
       "    </tr>\n",
       "  </tbody>\n",
       "</table>\n",
       "</div>"
      ],
      "text/plain": [
       "     A   B\n",
       "100  5  50\n",
       "200  6  50\n",
       "300  7  70"
      ]
     },
     "execution_count": 21,
     "metadata": {},
     "output_type": "execute_result"
    }
   ],
   "source": [
    "# this generates an array with a zero-based index?\n",
    "data = [50,50,70]\n",
    "unindexed_series = pd.Series(data)\n",
    "print(unindexed_series)\n",
    "print()\n",
    "\n",
    "# when adding it to the dataframe, it results in mismatched/missing values (NaN)\n",
    "second_frame[\"B\"] = unindexed_series\n",
    "print(second_frame)\n",
    "print()\n",
    "\n",
    "# it needs to have an explicit index set\n",
    "index = [100,200,300]\n",
    "indexed_series = pd.Series(data, index)\n",
    "print(indexed_series)\n",
    "print()\n",
    "\n",
    "second_frame[\"B\"] = indexed_series\n",
    "print(second_frame)\n",
    "print()\n",
    "\n",
    "second_frame"
   ]
  },
  {
   "cell_type": "code",
   "execution_count": 9,
   "metadata": {},
   "outputs": [
    {
     "data": {
      "text/html": [
       "<div>\n",
       "<style scoped>\n",
       "    .dataframe tbody tr th:only-of-type {\n",
       "        vertical-align: middle;\n",
       "    }\n",
       "\n",
       "    .dataframe tbody tr th {\n",
       "        vertical-align: top;\n",
       "    }\n",
       "\n",
       "    .dataframe thead th {\n",
       "        text-align: right;\n",
       "    }\n",
       "</style>\n",
       "<table border=\"1\" class=\"dataframe\">\n",
       "  <thead>\n",
       "    <tr style=\"text-align: right;\">\n",
       "      <th></th>\n",
       "      <th>A</th>\n",
       "      <th>B</th>\n",
       "      <th>C</th>\n",
       "    </tr>\n",
       "  </thead>\n",
       "  <tbody>\n",
       "    <tr>\n",
       "      <th>100</th>\n",
       "      <td>5</td>\n",
       "      <td>NaN</td>\n",
       "      <td>500</td>\n",
       "    </tr>\n",
       "    <tr>\n",
       "      <th>200</th>\n",
       "      <td>6</td>\n",
       "      <td>NaN</td>\n",
       "      <td>600</td>\n",
       "    </tr>\n",
       "    <tr>\n",
       "      <th>300</th>\n",
       "      <td>7</td>\n",
       "      <td>NaN</td>\n",
       "      <td>700</td>\n",
       "    </tr>\n",
       "  </tbody>\n",
       "</table>\n",
       "</div>"
      ],
      "text/plain": [
       "     A   B    C\n",
       "100  5 NaN  500\n",
       "200  6 NaN  600\n",
       "300  7 NaN  700"
      ]
     },
     "execution_count": 9,
     "metadata": {},
     "output_type": "execute_result"
    }
   ],
   "source": [
    "second_frame[\"C\"] = [500,600,700]\n",
    "second_frame"
   ]
  },
  {
   "attachments": {},
   "cell_type": "markdown",
   "metadata": {},
   "source": [
    "# Exercise - add column\n",
    "\n",
    "Adjust the following code block so that it adds a new column (called \"B\") to the one-column data frame `table` Column \"B\" should have values one more (`+1`) than the corresponding existing value. I.e. replicate this spreadsheet table\n",
    "\n",
    "![simple table](imgs/small_table.png)\n",
    "\n",
    "Everything you need was covered in this notebook, but you might have to get creative in how you combine the ideas.\n"
   ]
  },
  {
   "cell_type": "code",
   "execution_count": 11,
   "metadata": {},
   "outputs": [
    {
     "name": "stdout",
     "output_type": "stream",
     "text": [
      "   A\n",
      "1  5\n",
      "2  6\n",
      "3  7\n",
      "   A  B\n",
      "1  5  6\n",
      "2  6  7\n",
      "3  7  8\n"
     ]
    }
   ],
   "source": [
    "table = pd.Series({1:5,2:6,3:7}).to_frame(\"A\")\n",
    "print(table)\n",
    "\n",
    "# put your code here such that the next print of table has all the new values in column \"B\"\n",
    "table[\"B\"] = table[\"A\"] + 1\n",
    "print(table)"
   ]
  }
 ],
 "metadata": {
  "kernelspec": {
   "display_name": "Python 3",
   "language": "python",
   "name": "python3"
  },
  "language_info": {
   "codemirror_mode": {
    "name": "ipython",
    "version": 3
   },
   "file_extension": ".py",
   "mimetype": "text/x-python",
   "name": "python",
   "nbconvert_exporter": "python",
   "pygments_lexer": "ipython3",
   "version": "3.12.4"
  },
  "orig_nbformat": 4,
  "vscode": {
   "interpreter": {
    "hash": "9ac03a0a6051494cc606d484d27d20fce22fb7b4d169f583271e11d5ba46a56e"
   }
  }
 },
 "nbformat": 4,
 "nbformat_minor": 2
}
